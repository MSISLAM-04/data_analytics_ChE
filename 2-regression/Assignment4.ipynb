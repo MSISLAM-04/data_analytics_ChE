{
 "cells": [
  {
   "cell_type": "markdown",
   "metadata": {
    "toc": true
   },
   "source": [
    "<h1>Table of Contents<span class=\"tocSkip\"></span></h1>\n",
    "<div class=\"toc\"><ul class=\"toc-item\"><li><span><a href=\"#Mean-Absolute-Errors\" data-toc-modified-id=\"Mean-Absolute-Errors-1\"><span class=\"toc-item-num\">1&nbsp;&nbsp;</span>Mean Absolute Errors</a></span></li><li><span><a href=\"#Hyperparameter-Tuning\" data-toc-modified-id=\"Hyperparameter-Tuning-2\"><span class=\"toc-item-num\">2&nbsp;&nbsp;</span>Hyperparameter Tuning</a></span></li><li><span><a href=\"#3.-GridSearchCV\" data-toc-modified-id=\"3.-GridSearchCV-3\"><span class=\"toc-item-num\">3&nbsp;&nbsp;</span>3. GridSearchCV</a></span></li><li><span><a href=\"#Ensemble-Kernel-Ridge-Regression\" data-toc-modified-id=\"Ensemble-Kernel-Ridge-Regression-4\"><span class=\"toc-item-num\">4&nbsp;&nbsp;</span>Ensemble Kernel Ridge Regression</a></span></li></ul></div>"
   ]
  },
  {
   "cell_type": "markdown",
   "metadata": {},
   "source": [
    "# Regression - Assignment 2"
   ]
  },
  {
   "cell_type": "markdown",
   "metadata": {},
   "source": [
    "Data and Package Import"
   ]
  },
  {
   "cell_type": "code",
   "execution_count": 1,
   "metadata": {},
   "outputs": [],
   "source": [
    "%matplotlib inline\n",
    "import numpy as np\n",
    "import pandas as pd\n",
    "import pylab as plt"
   ]
  },
  {
   "cell_type": "code",
   "execution_count": 2,
   "metadata": {},
   "outputs": [
    {
     "data": {
      "image/png": "[encoded data removed]",
      "text/plain": [
       "<Figure size 750x450 with 1 Axes>"
      ]
     },
     "metadata": {
      "needs_background": "light"
     },
     "output_type": "display_data"
    }
   ],
   "source": [
    "df = pd.read_csv('data/ethanol_IR.csv')\n",
    "x_all = df['wavenumber [cm^-1]'].values\n",
    "y_all = df['absorbance'].values\n",
    "\n",
    "x_peak = x_all[475:575]\n",
    "y_peak = y_all[475:575]\n",
    "\n",
    "fig, ax = plt.subplots(figsize = (5, 3), dpi = 150)\n",
    "ax.plot(x_peak, y_peak, '-b', marker = '.')\n",
    "ax.set_xlabel('wavenumber [$cm^{-1}$]')\n",
    "ax.set_ylabel('absorbance');"
   ]
  },
  {
   "cell_type": "markdown",
   "metadata": {},
   "source": [
    "## Mean Absolute Errors\n",
    "\n",
    "**Write a function that computes the mean absolute error (MAE).**"
   ]
  },
  {
   "cell_type": "code",
   "execution_count": null,
   "metadata": {},
   "outputs": [],
   "source": [
    "def MAE(actual, prediction):\n",
    "    \n",
    "    return mae"
   ]
  },
  {
   "cell_type": "markdown",
   "metadata": {},
   "source": [
    "**Use 8-fold cross-validation to compute the average and standard deviation of the MAE on the spectra dataset.**\n",
    "\n",
    "Use a `LinearRegression` model and an `rbf` kernel with $\\sigma$=100.\n",
    "\n",
    "Make sure to pass `shuffle = True` argument when you make a `KFold` object."
   ]
  },
  {
   "cell_type": "code",
   "execution_count": null,
   "metadata": {},
   "outputs": [],
   "source": []
  },
  {
   "cell_type": "markdown",
   "metadata": {},
   "source": [
    "**Determine the optimum $\\sigma$ that results in the lowest mean of MAE based on 8-fold cross validation.**\n",
    "\n",
    "Vary the width of an `rbf` kernel with $\\sigma$ = [1, 10, 50, 100, 150]."
   ]
  },
  {
   "cell_type": "code",
   "execution_count": null,
   "metadata": {},
   "outputs": [],
   "source": [
    "sigmas = [1, 10, 50, 100, 150]"
   ]
  },
  {
   "cell_type": "markdown",
   "metadata": {},
   "source": [
    "## Hyperparameter Tuning\n",
    "\n",
    "**Reshape `x_peak` and `y_peak` into 2D arrayx.**"
   ]
  },
  {
   "cell_type": "code",
   "execution_count": null,
   "metadata": {},
   "outputs": [],
   "source": []
  },
  {
   "cell_type": "markdown",
   "metadata": {},
   "source": [
    "**Do a train/test split with `test_size=0.3` for the spectra data.**"
   ]
  },
  {
   "cell_type": "code",
   "execution_count": null,
   "metadata": {},
   "outputs": [],
   "source": []
  },
  {
   "cell_type": "markdown",
   "metadata": {},
   "source": [
    "**Use a `for` loop to determine the optimum regularization strength $\\alpha$ of a KRR model.**\n",
    "\n",
    "Use an `rbf` kernel with $\\sigma$=20.\n",
    "\n",
    "Determine the optimum value of $\\alpha$ out of [1e-5, 1e-4, 1e-3, 1e-2, 1e-1, 1]."
   ]
  },
  {
   "cell_type": "code",
   "execution_count": null,
   "metadata": {
    "scrolled": false
   },
   "outputs": [],
   "source": [
    "alphas = [1e-5, 1e-4, 1e-3, 1e-2, 1e-1, 1]"
   ]
  },
  {
   "cell_type": "markdown",
   "metadata": {},
   "source": [
    "## 3. GridSearchCV"
   ]
  },
  {
   "cell_type": "markdown",
   "metadata": {},
   "source": [
    "**Import a LASSO model.**"
   ]
  },
  {
   "cell_type": "code",
   "execution_count": null,
   "metadata": {},
   "outputs": [],
   "source": []
  },
  {
   "cell_type": "markdown",
   "metadata": {},
   "source": [
    "**Shuffle the `x_peak` and `y_peak`.**\n",
    "\n",
    "You can get a shuffled array when you run `x_shuffle, y_shuffle = shuffle(x, y)`.\n",
    "\n",
    "The reason why we shuffle the data is that `GridSearchCV` does not have an option to shuffle the input data. Note that we automatically shuffled the data using the `shuffle=True` argument in the `Kfold` function."
   ]
  },
  {
   "cell_type": "code",
   "execution_count": null,
   "metadata": {},
   "outputs": [],
   "source": [
    "from sklearn.utils import shuffle"
   ]
  },
  {
   "cell_type": "markdown",
   "metadata": {},
   "source": [
    "**Build a `GridSearchCV` model that optimizes the hyperparameters of a LASSO model for the spectra data.**\n",
    "\n",
    "Search over $\\alpha \\in$ [1e-5, 1e-4, 1e-3, 1e-2, 1e-1, 1] and $\\sigma \\in$ [5, 10, 15, 20, 25, 30, 35, 40].\n",
    "\n",
    "Use 3-fold cross-validation.\n",
    "\n",
    "*Hint: You will need to use a `for` loop over $\\sigma$ values. Unlike KRR, LASSO models do not take `gamma` or `sigma` as a parameter. Therefore, you have to make an `rbf` kernel manually and input it to a LASSO model.*\n",
    "\n",
    "Obtain the optimum $\\alpha$ and the best score for each $\\sigma$ value. Use `GridSearchCV.best_score_` as an accuracy metric."
   ]
  },
  {
   "cell_type": "code",
   "execution_count": null,
   "metadata": {},
   "outputs": [],
   "source": []
  },
  {
   "cell_type": "markdown",
   "metadata": {},
   "source": [
    "**What is the optimum $\\sigma$ and $\\alpha$?**"
   ]
  },
  {
   "cell_type": "code",
   "execution_count": null,
   "metadata": {},
   "outputs": [],
   "source": []
  },
  {
   "cell_type": "markdown",
   "metadata": {},
   "source": [
    "**Optional Task**\n",
    "\n",
    "**Check what happens if the input data is not shuffled before the `GridSearchCV`.**"
   ]
  },
  {
   "cell_type": "code",
   "execution_count": null,
   "metadata": {},
   "outputs": [],
   "source": []
  },
  {
   "cell_type": "markdown",
   "metadata": {},
   "source": [
    "## Ensemble Kernel Ridge Regression\n",
    "\n",
    "In this problem you will combine ideas from k-fold cross-validation and bootstrapping with KRR to create an **ensemble** of KRR models."
   ]
  },
  {
   "cell_type": "markdown",
   "metadata": {},
   "source": [
    "**Reshape `x_peak` and `y_peak` into 2D array.**"
   ]
  },
  {
   "cell_type": "code",
   "execution_count": null,
   "metadata": {},
   "outputs": [],
   "source": []
  },
  {
   "cell_type": "markdown",
   "metadata": {},
   "source": [
    "**Use 5-fold cross-validation with the spectra data to construct a series of 5 KRR models with a `rbf` kernel with $\\gamma$=0.0005 and $\\alpha$=0.01.**\n",
    "\n",
    "Each model will be trained with 80% of the data, but the exact training points will vary each time so the models will also vary.\n",
    "\n",
    "You can use all of the data points in the `x_peak` for generating the predictions (in other words, predict on both the training and testing data)."
   ]
  },
  {
   "cell_type": "code",
   "execution_count": null,
   "metadata": {},
   "outputs": [],
   "source": []
  },
  {
   "cell_type": "markdown",
   "metadata": {},
   "source": [
    "**Plot the resulting ensemble of models along with the original data.**\n",
    "\n",
    "The plot should consists of 6 different lines (1 from the original data and 5 from each of the slightly different KRR models)."
   ]
  },
  {
   "cell_type": "code",
   "execution_count": null,
   "metadata": {},
   "outputs": [],
   "source": []
  },
  {
   "cell_type": "markdown",
   "metadata": {},
   "source": [
    "**Plot the standard deviation of the 5 KRR model predictions as a function of wavenumber.**"
   ]
  },
  {
   "cell_type": "code",
   "execution_count": null,
   "metadata": {},
   "outputs": [],
   "source": []
  },
  {
   "cell_type": "markdown",
   "metadata": {},
   "source": [
    "**Is the predicted error homoscedastic? Briefly explain.**"
   ]
  },
  {
   "cell_type": "markdown",
   "metadata": {},
   "source": []
  }
 ],
 "metadata": {
  "kernelspec": {
   "display_name": "Python 3",
   "language": "python",
   "name": "python3"
  },
  "language_info": {
   "codemirror_mode": {
    "name": "ipython",
    "version": 3
   },
   "file_extension": ".py",
   "mimetype": "text/x-python",
   "name": "python",
   "nbconvert_exporter": "python",
   "pygments_lexer": "ipython3",
   "version": "3.7.7"
  },
  "toc": {
   "base_numbering": 1,
   "nav_menu": {},
   "number_sections": true,
   "sideBar": true,
   "skip_h1_title": true,
   "title_cell": "Table of Contents",
   "title_sidebar": "Contents",
   "toc_cell": true,
   "toc_position": {},
   "toc_section_display": true,
   "toc_window_display": false
  }
 },
 "nbformat": 4,
 "nbformat_minor": 4
}
